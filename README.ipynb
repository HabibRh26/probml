{
 "cells": [
  {
   "cell_type": "markdown",
   "metadata": {},
   "source": [
    "# Practical report for LE49: Probabilistic Machine Learning"
   ]
  },
  {
   "cell_type": "markdown",
   "metadata": {},
   "source": [
    "[_LE49 Probabilistic Machine Learning_](http://www.cl.cam.ac.uk/teaching/1718/LE49/)\n",
    "is a course taken by Part III and ACS students. Lectures are delivered by Prof Carl Rasmussen in the Engineering department.\n",
    "The course is also taken by engineering students, as [Engineering Course 4f13](http://mlg.eng.cam.ac.uk/teaching/4f13/1718/).\n",
    "\n",
    "Assessment for _LE49 Probabilistic Machine Learning_ consists of\n",
    "* a practical report, worth 20%\n",
    "* a mini-project, worth 80%\n",
    "\n",
    "This library contains the three pieces of coursework that make up the practical report.\n",
    "They are adapted from Prof Rasmussen's material.\n",
    "\n",
    "* [Coursework 1: Guassian processes](coursework1.ipynb)\n",
    "* [Coursework 2: probabilistic ranking](coursework2.ipynb)\n",
    "* Coursework 3: latent Dirichlet allocation (not yet released)\n",
    "\n",
    "Submission instructions are given on Moodle."
   ]
  },
  {
   "cell_type": "markdown",
   "metadata": {},
   "source": [
    "### What to submit\n",
    "\n",
    "Your answers should contain an explanation of what you do, and 2&ndash;4 central commands to achieve it. Complete listings are unnecessary. The focus of your answer should be _interpretation_: explain what the numerical values and graphs you produce _mean_, and why they are as they are. Your answers to each of these three pieces of coursework should not exceed 1000 words (i.e. 3000 words in total)."
   ]
  },
  {
   "cell_type": "markdown",
   "metadata": {},
   "source": [
    "### Programming background"
   ]
  },
  {
   "cell_type": "markdown",
   "metadata": {},
   "source": [
    "You are expected to have a general understanding of how to program in Python, including `numpy` and basic plotting with `matplotlib`. There are many tutorials to be found online. Alternatively, you may find it helpful to read the **DRAFT** course notes for _IA Scientific Computing_:\n",
    "\n",
    "* [1. Programming in a Python notebook](https://notebooks.azure.com/djw1005/libraries/cl-scicomp/html/1.%20Programming%20in%20Python.ipynb)\n",
    "* [2. Numerical computation](https://notebooks.azure.com/djw1005/libraries/cl-scicomp/html/2.%20Numerical%20computation.ipynb)"
   ]
  },
  {
   "cell_type": "markdown",
   "metadata": {},
   "source": [
    "This is a [Jupyter notebook](http://jupyter.org/). Jupyter notebooks are \"live documents\" that intersperse text and running code.\n",
    "We will be using Jupyter hosted on the Microsoft Azure cloud computing environment.\n",
    "You can access it from any device &mdash; all you need is a web browser. \n",
    "\n",
    "Click on \n",
    "<span style=\"border: solid black 1px\">\n",
    "<img src=\"res/clone-icon-fa.png\" \n",
    "style=\"display:inline-block; padding:1pt\">\n",
    "Clone</span> at the top of the page to get your own runnable version of the \n",
    "Library (consisting of all notebooks for this course).\n",
    "If you are not logged in, you will be prompted to log in: type in your Cambridge University CRSid e.g. `spqr1@cam.ac.uk`, click in the password field, and you will automatically be redirected to a Raven login page. \n",
    "Experiment freely with your clone of the library &mdash; you can always go back and read the [master version](https://notebooks.azure.com/djw1005/libraries/cl-scicomp).\n",
    "\n",
    "> For academic staff at Cambridge: if your Raven password doesn't work, then you need to [activate your Microsoft account](https://www.uis.cam.ac.uk/initiatives/ees/ees-sign-up/ees-enable-account) first. For other users: you can sign up for a free Microsoft account on the login page.\n",
    "\n",
    "Once you are logged in you can also create your own\n",
    "libraries and notebooks, using the `Libraries` link at the top left at [https://notebooks.azure.com/](https://notebooks.azure.com/). When you create a notebook you will be asked which language to use. This course uses Python 3.6, which is substantially different to Python 2.7, so be alert when you look for help online.\n",
    "\n",
    "These notebooks are hosted on the cloud, and the first lesson of cloud computing is that **the cloud will fail when you need it most.** Take regular backups, by going to the `Libraries` page, clicking on the library, clicking on the line with the relevant notebook, then clicking on <span style=\"border: solid black 1px;\"><img src=\"res/download.png\" style=\"height:1em; display:inline-block; padding:1pt; padding-right:3pt\">Download</span>.\n",
    "You can also run the notebooks on your own machine: follow the [Jupyter installation instructions](http://jupyter.org/install.html), and clone the notebooks from their [GitHub repository](https://github.com/damonjw/scicomp)."
   ]
  }
 ],
 "metadata": {
  "kernelspec": {
   "display_name": "Python 3.6",
   "language": "python",
   "name": "py36"
  },
  "language_info": {
   "codemirror_mode": {
    "name": "ipython",
    "version": 3
   },
   "file_extension": ".py",
   "mimetype": "text/x-python",
   "name": "python",
   "nbconvert_exporter": "python",
   "pygments_lexer": "ipython3",
   "version": "3.6.3"
  }
 },
 "nbformat": 4,
 "nbformat_minor": 2
}
