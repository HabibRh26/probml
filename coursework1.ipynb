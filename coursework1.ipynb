{
 "cells": [
  {
   "cell_type": "markdown",
   "metadata": {},
   "source": [
    "# Coursework 1: Gaussian processes\n",
    "_[Original](http://mlg.eng.cam.ac.uk/teaching/4f13/1718/cw/coursework1.pdf) by Carl Rasmussen and Manon Kok for [CUED course 4f13](http://mlg.eng.cam.ac.uk/teaching/4f13/1718/). This version adapted by Damon Wischik._\n",
    "\n",
    "In this assignment you will use Gaussian process modelling.\n",
    "This coursework uses the Python package [`sklearn.gaussian_process`](http://scikit-learn.org/stable/modules/gaussian_process.html) which is the rough equivalent of the [GPML](http://www.gaussianprocess.org/gpml/code/matlab/doc/) package for MATLAB. See the appendix at the end of this document for a walkthrough.\n",
    "\n",
    "**What to submit.**\n",
    "Your answers should contain an explanation of what you do, and\n",
    "2&ndash;4 central commands to achieve it. Complete listings are\n",
    "unnecessary. The focus of your answer should be\n",
    "_interpretation:_ explain what the numerical values and graphs\n",
    "you produce _mean,_ and why they are as they are.  The text of\n",
    "your answer to each question should be no more than a paragraph or\n",
    "two."
   ]
  },
  {
   "cell_type": "code",
   "execution_count": 1,
   "metadata": {},
   "outputs": [],
   "source": [
    "# Standard imports for scientific and engineering work in Python:\n",
    "import numpy as np                      # MATLAB-style matrix and vector manipulation\n",
    "import matplotlib.pyplot as plt         # MATLAB-style plotting\n",
    "import matplotlib                       # for more control over plotting\n",
    "import scipy.io                         # some useful data input-output routines\n",
    "import sklearn.gaussian_process as gp   # Gaussian process modeling\n",
    "import requests                         # for retrieving data over the web\n",
    "import io                               # also used for importing data\n",
    "import pandas                           # data-science-style dataset manipulation\n",
    "# Configure matplotlib to show its output right in the notebook\n",
    "%matplotlib inline"
   ]
  },
  {
   "cell_type": "markdown",
   "metadata": {},
   "source": [
    "## Question (a)"
   ]
  },
  {
   "cell_type": "markdown",
   "metadata": {},
   "source": [
    "Load data from `https://teachingfiles.blob.core.windows.net/probml/cw1a.mat`. Consider a Gaussian process with a squared exponential covariance function,\n",
    "```\n",
    "ν**2 * gp.kernels.RBF(length_scale=λ) + gp.kernels.WhiteKernel(noise_level=σ),\n",
    "```\n",
    "and minimize the negative log marginal likelihood starting with hyperparameters `λ=np.exp(-1)`, `ν=1`, `σ=1`. Show the 95% predictive error bars. Comment on the predictive error bars and the optimized hyperparameters."
   ]
  },
  {
   "cell_type": "code",
   "execution_count": 2,
   "metadata": {},
   "outputs": [],
   "source": [
    "# To import a .mat file from a URL:\n",
    "r = requests.get('http://mlg.eng.cam.ac.uk/teaching/4f13/1920/cw/cw1a.mat')\n",
    "with io.BytesIO(r.content) as f:\n",
    "    data = scipy.io.loadmat(f)\n",
    "    x,y = data['x'], data['y']"
   ]
  },
  {
   "cell_type": "markdown",
   "metadata": {},
   "source": [
    "## Question (b)"
   ]
  },
  {
   "cell_type": "markdown",
   "metadata": {},
   "source": [
    "Show that by initializing the hyperparameters differently, you can ﬁnd a different local optimum for the hyperparameters. Try a range of values. Show the fit. Explain what is going on. Which fit is best, and why? "
   ]
  },
  {
   "cell_type": "markdown",
   "metadata": {},
   "source": [
    "## Question (c)"
   ]
  },
  {
   "cell_type": "markdown",
   "metadata": {},
   "source": [
    "Train instead a GP with a periodic covariance function, using [`gp.kernels.ExpSineSquared`](http://scikit-learn.org/stable/modules/gaussian_process.html#exp-sine-squared-kernel). Show the fit. Comment on the\n",
    "behaviour of the error-bars, compared to your fit from (a). Do you think the data generating mechanism\n",
    "was really periodic? Why, why not?"
   ]
  },
  {
   "cell_type": "markdown",
   "metadata": {},
   "source": [
    "## Question (d)\n",
    "\n",
    "Generate 200 noise-free data points at `x = np.linspace(-5,5,200)` from a Gaussian process with the following\n",
    "covariance function: \n",
    "```\n",
    "1 * gp.kernels.ExpSineSquared(length_scale=np.exp(-0.5), periodicity=1) \n",
    "    * gp.kernels.RBF(length_scale=np.exp(2)))\n",
    "```\n",
    "Don’t add noise to the function values, i.e. don't add `gp.kernels.WhiteKernel()` to the kernel.\n",
    "Using `GaussianProcessRegressor.sample_y()`, plot some sample functions. Explain their behaviour.\n",
    "\n",
    "_The choice of kernel dictates what output are likely. By looking at sample functions, \n",
    "you gain experience of the expressive power of Gaussian process models. Ultimately, you should be able to look at a scatterplot and\n",
    "know straight away what type of kernel would be a good fit._"
   ]
  },
  {
   "cell_type": "markdown",
   "metadata": {},
   "source": [
    "## Question (e)\n",
    "\n",
    "Load `https://teachingfiles.blob.core.windows.net/probml/cw1e.mat`. This data has two-dimensional input and scalar output. Visualise the data, e.g. using the code snippets in the appendix.\n",
    "Consider two different Gaussian process models of the data, one using covariance function\n",
    "`RBF(length_scale=[l1,l2])`\n",
    "and the other using the sum of two such `RBF` terms. (Make sure to break symmetry, e.g. by choosing the initial hyperparameters randomly.)\n",
    "\n",
    "Compare the two models. How do the data fits compare? How do the marginal likelihoods compare? What is your interpretation? Which of the two is better?\n",
    "\n",
    "> When `length_scale` is a list, the `RBF` kernel uses separate length-scale parameters for each dimension of the input space. In GPML it is known as 'Squared Exponential with Automatic Relevance Determination', `covSEard`. It is a useful tool to learn which inputs are important for predictions: if length-scales are short, inputs are very important, and when they grow very long (compared to the spread of the data), the corresponding inputs will be largely ignored."
   ]
  },
  {
   "cell_type": "code",
   "execution_count": 11,
   "metadata": {},
   "outputs": [],
   "source": [
    "r = requests.get('http://mlg.eng.cam.ac.uk/teaching/4f13/1920/cw/cw1e.mat')\n",
    "with io.BytesIO(r.content) as f:\n",
    "    data = scipy.io.loadmat(f)\n",
    "    x,y = data['x'], data['y']"
   ]
  },
  {
   "cell_type": "markdown",
   "metadata": {},
   "source": [
    "## Question (f)\n",
    "\n",
    "Load `https://teachingfiles.blob.core.windows.net/probml/twoseries.csv`. This data consists of two time series, where $t$ is time, $k$ is the index of the series, and $y$ is the output. \n",
    "The data has two-dimensional input, but the second dimension is categorical rather than numerical, so it doesn't make sense to use the RBF kernel. Instead,\n",
    "consider the model\n",
    "$$\n",
    "Y_{t,k} = Z_t + E_k + \\operatorname{Normal}(0,\\sigma^2)\n",
    "$$\n",
    "where $Z_t$ is a shared underlying RBF Gaussian process, and $E_1$ and $E_2$ are independent $\\operatorname{Normal}(0,\\rho^2)$ offsets, giving\n",
    "$$\n",
    "\\operatorname{Cov}(Y_{t,k}, Y_{t',k'}) = \\nu^2 \\exp \\Bigl( -\\frac{(t-t')^2}{2\\ell^2}\\Bigr) + \\rho^2 \\delta_{k k'} + \\sigma^2 \\delta_{t t'}\\delta_{k k'}.\n",
    "$$\n",
    "Implement a kernel for this model, fit it, and plot your predicted values for the two time series."
   ]
  },
  {
   "cell_type": "code",
   "execution_count": null,
   "metadata": {},
   "outputs": [],
   "source": [
    "twoseries = pandas.read_csv('https://raw.githubusercontent.com/damonjw/probml/master/data/twoseries.csv')\n",
    "t,k,y = twoseries['t'].values, twoseries['k'].values, twoseries['y'].values"
   ]
  },
  {
   "cell_type": "markdown",
   "metadata": {
    "tags": [
     "hidden"
    ]
   },
   "source": [
    "<div style=\"height: 15em\"></div>"
   ]
  },
  {
   "cell_type": "markdown",
   "metadata": {
    "tags": [
     "pagebreak"
    ]
   },
   "source": [
    "# Appendix"
   ]
  },
  {
   "cell_type": "markdown",
   "metadata": {},
   "source": [
    "## Gaussian processes in Python\n",
    "\n",
    "Here is a simple example of how to use `sklearn.gaussian_process`. For full details, see the [documentation](http://scikit-learn.org/stable/modules/gaussian_process.html)."
   ]
  },
  {
   "cell_type": "markdown",
   "metadata": {},
   "source": [
    "Let's consider a simple Gaussian process model: a prior on the space of Gaussian processes, with mean 0, and with covariance function\n",
    "$$\n",
    "k(x, x') = \\nu^2 \\exp \\Bigl( -\\frac{(x-x')^2}{2\\ell^2}\\Bigr)\n",
    "$$\n",
    "(this function is called `RBF` in `sklearn.gaussian_process` and `covSEiso` in GPML). Suppose that the data model is  \n",
    "$$\n",
    "p(y\\:|\\:x,f) \\sim\n",
    "\\operatorname{Normal}\\bigl(f(x), \\sigma^2 I\\bigr)\n",
    "$$\n",
    "where $x$ and $y$ are vectors and $f(x)$ means $(f(x_1),\\dots,f(x_n))$. In this model, $\\nu$, $\\ell$ and $\\sigma$ are hyperparameters. Another way to write out this entire model is with a single covariance function,\n",
    "$$\n",
    "k(x, x') = \\nu^2 \\exp \\Bigl( -\\frac{(x-x')^2}{2\\ell^2}\\Bigr) + \\sigma^2 \\delta_{x x'}.\n",
    "$$\n",
    "\n",
    "In the `gaussian_process` package, a Gaussian process model is specified by a _kernel_ object. (Kernel is another name for covariance function.) The package has a [library of kernels](http://scikit-learn.org/stable/modules/gaussian_process.html#gp-kernels), each implemented as a Python class, and we can create composite kernels by adding together and multiplying kernel objects."
   ]
  },
  {
   "cell_type": "code",
   "execution_count": 4,
   "metadata": {},
   "outputs": [
    {
     "data": {
      "text/plain": [
       "0.5**2 * RBF(length_scale=0.368) + WhiteKernel(noise_level=1)"
      ]
     },
     "execution_count": 4,
     "metadata": {},
     "output_type": "execute_result"
    }
   ],
   "source": [
    "l = np.exp(-1)\n",
    "ν = 0.5\n",
    "σ = 1\n",
    "kernel1 = ν**2 * gp.kernels.RBF(length_scale=l) + gp.kernels.WhiteKernel(noise_level=σ)\n",
    "kernel1"
   ]
  },
  {
   "cell_type": "markdown",
   "metadata": {},
   "source": [
    "To extract parameters from a kernel, use `get_params()`. You can also use `set_params` to set the parameters for a kernel."
   ]
  },
  {
   "cell_type": "code",
   "execution_count": 5,
   "metadata": {},
   "outputs": [
    {
     "data": {
      "text/plain": [
       "{'k1': 0.5**2 * RBF(length_scale=0.368),\n",
       " 'k1__k1': 0.5**2,\n",
       " 'k1__k1__constant_value': 0.25,\n",
       " 'k1__k1__constant_value_bounds': (1e-05, 100000.0),\n",
       " 'k1__k2': RBF(length_scale=0.368),\n",
       " 'k1__k2__length_scale': 0.36787944117144233,\n",
       " 'k1__k2__length_scale_bounds': (1e-05, 100000.0),\n",
       " 'k2': WhiteKernel(noise_level=1),\n",
       " 'k2__noise_level': 1,\n",
       " 'k2__noise_level_bounds': (1e-05, 100000.0)}"
      ]
     },
     "execution_count": 5,
     "metadata": {},
     "output_type": "execute_result"
    }
   ],
   "source": [
    "kernel1.get_params()"
   ]
  },
  {
   "cell_type": "markdown",
   "metadata": {},
   "source": [
    "Machine learning functions are implemented via the class `GaussianProcessRegressor`, which is initialized with a kernel object. It has methods for learning hyperparameters and making predictions. We can access a model's kernel with `GaussianProcessRegressor.kernel`."
   ]
  },
  {
   "cell_type": "code",
   "execution_count": 6,
   "metadata": {},
   "outputs": [
    {
     "data": {
      "text/plain": [
       "0.5**2 * RBF(length_scale=0.368) + WhiteKernel(noise_level=1)"
      ]
     },
     "execution_count": 6,
     "metadata": {},
     "output_type": "execute_result"
    }
   ],
   "source": [
    "model1 = gp.GaussianProcessRegressor(kernel=kernel1)\n",
    "model1.kernel"
   ]
  },
  {
   "cell_type": "markdown",
   "metadata": {},
   "source": [
    "To learn hyperparameters, use `GaussianProcessRegressor.fit(x,y)`. It requires the parameters to be arrays with one row per observation. In the example below we start with one-dimensional input and output, so we have to reshape them to be column vectors. We can access the fitted kernel, and thence the fitted parameters, with `model.kernel_`."
   ]
  },
  {
   "cell_type": "code",
   "execution_count": 7,
   "metadata": {},
   "outputs": [
    {
     "data": {
      "text/plain": [
       "0.901**2 * RBF(length_scale=0.53) + WhiteKernel(noise_level=0.00852)"
      ]
     },
     "execution_count": 7,
     "metadata": {},
     "output_type": "execute_result"
    }
   ],
   "source": [
    "# Training data\n",
    "x = np.array([0.57650, 0.43504, 0.76607, -0.78369, -1.27129, -0.66034, 1.18100, \n",
    "              0.25929, 0.50898, -0.73703, 0.83023, 1.60078, -0.34655, -0.68073, \n",
    "              -1.21480, -0.55955, -1.28229, 0.85388, 0.73265, -0.75330])\n",
    "y = np.array([ 0.96948, 1.08384, 0.62050, -0.65940, 0.54944, -0.88911, -0.37886,\n",
    "              0.77166, 0.97753, -0.75901, 0.76003, -1.13327, -0.74600, -0.99293,\n",
    "              0.60169, -0.98088, 0.55333, 0.60247, 0.99501, -0.83345])\n",
    "\n",
    "model1.fit(x[..., np.newaxis], y[..., np.newaxis])\n",
    "model1.kernel_"
   ]
  },
  {
   "cell_type": "markdown",
   "metadata": {},
   "source": [
    "To make predictions with a fitted model, call `GaussianProcessRegressor.predict(x)`. As before, `x` should be a column vector."
   ]
  },
  {
   "cell_type": "code",
   "execution_count": 8,
   "metadata": {},
   "outputs": [
    {
     "data": {
      "image/png": "[encoded data removed]",
      "text/plain": [
       "<Figure size 720x180 with 1 Axes>"
      ]
     },
     "metadata": {},
     "output_type": "display_data"
    }
   ],
   "source": [
    "# New values of x where we want to make a prediction\n",
    "newx = np.linspace(-3, 3, 61)\n",
    "μ,σ = model1.predict(newx[..., np.newaxis], return_std=True)\n",
    "\n",
    "# Plot the output.\n",
    "# squeeze() is a numpy function that turns column vectors into simple 1d vectors.\n",
    "with matplotlib.rc_context({'figure.figsize': [10,2.5]}):\n",
    "    plt.fill_between(newx, μ.squeeze()-2*σ, μ.squeeze()+2*σ, alpha=.2)\n",
    "    plt.plot(newx, μ.squeeze())\n",
    "    plt.scatter(x, y, color='black')\n",
    "    plt.title(model1.kernel_)\n",
    "plt.show()"
   ]
  },
  {
   "cell_type": "markdown",
   "metadata": {},
   "source": [
    "## Custom kernels\n",
    "\n",
    "If there is no standard kernel that captures the covariance function we want, it's easy to implement a custom kernel. \n",
    "Below is a reimplementation of the RBF kernel, which has covariance function\n",
    "$$\n",
    "k(x, x') = \\exp \\Bigl( -\\frac{(x-x')^2}{2\\ell^2}\\Bigr).\n",
    "$$\n",
    "The main method is `__call__`, which computes a covariance matrix, \n",
    "and is invoked by\n",
    "```\n",
    "k = MyRBFKernel(length_scale=2.718)\n",
    "x = np.array([1,2,4])[:, np.newaxis]\n",
    "y = np.array([1.5,3])[:, np.newaxis]\n",
    "k(x,y)     # returns a matrix m_{i,j} = kernel(x_i, y_j)\n",
    "```\n",
    "The `__init__` constructor should accept arguments for each hyperparameter,\n",
    "and there should be `hyperparameter_X` properties that describe each hyperparameter.\n",
    "The simple implementation below requires $x\\in\\mathbb{R}$, but the [source code for the built-in RBF kernel](https://github.com/scikit-learn/scikit-learn/blob/master/sklearn/gaussian_process/kernels.py) allows multidimensional features $x\\in\\mathbb{R}^d$ with anisotropic length-scale $\\ell\\in\\mathbb{R}^d$.\n",
    "It is also more efficient."
   ]
  },
  {
   "cell_type": "code",
   "execution_count": 9,
   "metadata": {},
   "outputs": [],
   "source": [
    "from scipy.spatial.distance import cdist  # cdist(X,Y, metric=...) returns a matrix M_{i,j} = dist(X[i], Y[j])\n",
    "\n",
    "class MyRBFKernel(gp.kernels.Kernel):\n",
    "    def __init__(self, length_scale=1.0, length_scale_bounds=(1e-5, 1e5)):\n",
    "        self.length_scale = length_scale\n",
    "        self.length_scale_bounds = length_scale_bounds\n",
    "\n",
    "    @property\n",
    "    def hyperparameter_length_scale(self):\n",
    "        # return Hyperparameter(name, type, bounds, num.dimensions).\n",
    "        # The Hyperparameter class also has a property .fixed.\n",
    "        return gp.kernels.Hyperparameter(\"length_scale\", 'numeric', self.length_scale_bounds, 1)\n",
    "\n",
    "    def is_stationary(self):\n",
    "        return True\n",
    "    \n",
    "    def diag(self, X):\n",
    "        # The code, as originally posted, returned self(X,X), which is incorrect.\n",
    "        return np.diagonal(self(X, X))\n",
    "\n",
    "    def __call__(self, X, Y=None, eval_gradient=False):\n",
    "        X = np.atleast_2d(X)\n",
    "        Y = np.atleast_2d(Y) if Y is not None else X\n",
    "        if X.ndim != 2 or Y.ndim != 2 or X.shape[1] != 1 or Y.shape[1] != 1:\n",
    "            raise ValueError(\"Features must be scalars\")\n",
    "        length_scale = np.squeeze(self.length_scale).astype(float)\n",
    "        if length_scale.ndim != 0:\n",
    "            raise ValueError(\"Length scale must be a number\")\n",
    "        \n",
    "        K = np.exp(-0.5 * cdist(X, Y, metric='sqeuclidean') / length_scale**2)\n",
    "        \n",
    "        if not eval_gradient:\n",
    "            return K\n",
    "\n",
    "        # The gradient is with respect to log-transformed parameters.\n",
    "        # I.e. if length_scale=exp(x), then eval_gradient should return d/dx.\n",
    "        # If there are multiple hyperparameters, return an array with one\n",
    "        # column for each non-fixed hyperparameter, sorted alphabetically\n",
    "        # by hyperparameter name.\n",
    "        if self.hyperparameter_length_scale.fixed:\n",
    "            K_gradient = np.empty((len(X), len(Y), 0))\n",
    "        else:\n",
    "            K_gradient = K * cdist(X, Y, metric='sqeuclidean') / length_scale**2\n",
    "        return K, K_gradient[:, :, np.newaxis]\n",
    "\n",
    "    def __repr__(self):\n",
    "        return f\"RBF(length_scale={self.length_scale:.3g})\""
   ]
  },
  {
   "cell_type": "markdown",
   "metadata": {},
   "source": [
    "## Plotting a function of two variables\n",
    "\n",
    "Here are some ways we might plot the data from part (e)."
   ]
  },
  {
   "cell_type": "code",
   "execution_count": 12,
   "metadata": {},
   "outputs": [
    {
     "data": {
      "image/png": "[encoded data removed]",
      "text/plain": [
       "<Figure size 432x288 with 1 Axes>"
      ]
     },
     "metadata": {},
     "output_type": "display_data"
    }
   ],
   "source": [
    "from mpl_toolkits.mplot3d import axes3d   # import a library to allow 3d plots\n",
    "\n",
    "# Reshape the data to be in array form\n",
    "X = x[:,0].reshape((11,11))\n",
    "Y = x[:,1].reshape((11,11))\n",
    "Z = y.reshape((11,11))\n",
    "\n",
    "# Optionally: use `%matplotlib notebook` to make the plots interactive.\n",
    "# Get axes for a 3d plot, and then plot the surface\n",
    "axes = plt.figure().gca(projection='3d')\n",
    "axes.plot_surface(X, Y, Z)\n",
    "axes.set_xlabel('x0')\n",
    "axes.set_ylabel('x1')\n",
    "plt.show()"
   ]
  },
  {
   "cell_type": "code",
   "execution_count": 13,
   "metadata": {},
   "outputs": [
    {
     "data": {
      "image/png": "[encoded data removed]",
      "text/plain": [
       "<Figure size 432x288 with 2 Axes>"
      ]
     },
     "metadata": {},
     "output_type": "display_data"
    }
   ],
   "source": [
    "# A heatmap\n",
    "plt.imshow(y.reshape((11,11)), extent=np.array([-3,3,-3,3])*12/11, cmap=plt.get_cmap('coolwarm'))\n",
    "plt.xlabel('x0')\n",
    "plt.ylabel('x1')\n",
    "plt.colorbar()\n",
    "plt.show()"
   ]
  }
 ],
 "metadata": {
  "kernelspec": {
   "display_name": "Python 3",
   "language": "python",
   "name": "python3"
  },
  "language_info": {
   "codemirror_mode": {
    "name": "ipython",
    "version": 3
   },
   "file_extension": ".py",
   "mimetype": "text/x-python",
   "name": "python",
   "nbconvert_exporter": "python",
   "pygments_lexer": "ipython3",
   "version": "3.6.8"
  }
 },
 "nbformat": 4,
 "nbformat_minor": 2
}
